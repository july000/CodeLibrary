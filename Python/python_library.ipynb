{
 "cells": [
  {
   "cell_type": "code",
   "execution_count": 8,
   "metadata": {},
   "outputs": [
    {
     "name": "stdout",
     "output_type": "stream",
     "text": [
      "操作系统的名称 Windows\n",
      "操作系统的版本号 10\n",
      "操作系统名称和版本号 Windows-10-10.0.19041-SP0\n",
      "计算机的硬件架构 AMD64\n",
      "处理器的名称 Intel64 Family 6 Model 165 Stepping 5, GenuineIntel\n",
      "Python 解释器的版本号 MSC v.1929 64 bit (AMD64)\n",
      "Python 解释器的实现名称 CPython\n",
      "pyversion 3.9.13\n"
     ]
    }
   ],
   "source": [
    "import platform\n",
    "# 获取操作系统的信息\n",
    "print(\"操作系统的名称\", platform.system())\n",
    "print(\"操作系统的版本号\", platform.release())\n",
    "print(\"操作系统名称和版本号\", platform.platform())\n",
    "\n",
    "# 获取计算机的硬件信息\n",
    "print(\"计算机的硬件架构\", platform.machine())\n",
    "print(\"处理器的名称\", platform.processor())\n",
    "\n",
    "# 获取python解释器的信息\n",
    "print(\"Python 解释器的版本号\", platform.python_compiler())\n",
    "print(\"Python 解释器的实现名称\", platform.python_implementation())\n",
    "print(\"pyversion\", platform.python_version())\n"
   ]
  },
  {
   "cell_type": "code",
   "execution_count": 9,
   "metadata": {},
   "outputs": [
    {
     "ename": "AttributeError",
     "evalue": "module 'os' has no attribute 'homedir'",
     "output_type": "error",
     "traceback": [
      "\u001b[1;31m---------------------------------------------------------------------------\u001b[0m",
      "\u001b[1;31mAttributeError\u001b[0m                            Traceback (most recent call last)",
      "Cell \u001b[1;32mIn[9], line 3\u001b[0m\n\u001b[0;32m      1\u001b[0m \u001b[38;5;28;01mimport\u001b[39;00m \u001b[38;5;21;01mos\u001b[39;00m\n\u001b[0;32m      2\u001b[0m os\u001b[38;5;241m.\u001b[39mgetcwd()\n\u001b[1;32m----> 3\u001b[0m \u001b[43mos\u001b[49m\u001b[38;5;241;43m.\u001b[39;49m\u001b[43mhomedir\u001b[49m()\n",
      "\u001b[1;31mAttributeError\u001b[0m: module 'os' has no attribute 'homedir'"
     ]
    }
   ],
   "source": [
    "import os\n",
    "os.getcwd()\n",
    "os.homedir()"
   ]
  }
 ],
 "metadata": {
  "kernelspec": {
   "display_name": "Python 3.9.13 64-bit ('data-process': conda)",
   "language": "python",
   "name": "python3"
  },
  "language_info": {
   "codemirror_mode": {
    "name": "ipython",
    "version": 3
   },
   "file_extension": ".py",
   "mimetype": "text/x-python",
   "name": "python",
   "nbconvert_exporter": "python",
   "pygments_lexer": "ipython3",
   "version": "3.9.13"
  },
  "orig_nbformat": 4,
  "vscode": {
   "interpreter": {
    "hash": "313660ec7a800b4c4d3e6332645c401daa4675ef6028991787ad2039cc167a5a"
   }
  }
 },
 "nbformat": 4,
 "nbformat_minor": 2
}
