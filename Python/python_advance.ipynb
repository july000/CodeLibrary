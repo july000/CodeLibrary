{
 "cells": [
  {
   "cell_type": "markdown",
   "metadata": {},
   "source": [
    "# python advance\n",
    "## reference link\n",
    "* https://ebook-python-study.readthedocs.io/zh-cn/latest/\n",
    "* https://docs.pythontab.com/interpy/"
   ]
  },
  {
   "cell_type": "code",
   "execution_count": 4,
   "metadata": {},
   "outputs": [
    {
     "name": "stdout",
     "output_type": "stream",
     "text": [
      "first parameter :  1\n",
      "Positional arguments (args): (2, 3)\n",
      "Keyword arguments (kwargs): {'name': 'John', 'age': 25}\n"
     ]
    }
   ],
   "source": [
    "# *args : 支持非键值对的可变参数数量的参数列表给一个函数\n",
    "# **kwargs ： 支持键值对的可变参数数量的参数列表给一个函数\n",
    "# 都是将不定参数传递给一个函数，*号才是关键，后面的单词是可以变化的\n",
    "# 可以同时使用\n",
    "def test_var_args(first, *args, **kwargs):\n",
    "    print(\"first parameter : \", first)\n",
    "    print(\"Positional arguments (args):\", args)\n",
    "    print(\"Keyword arguments (kwargs):\", kwargs)\n",
    "\n",
    "# 调用示例函数\n",
    "test_var_args(1, 2, 3, name='John', age=25)\n"
   ]
  },
  {
   "cell_type": "markdown",
   "metadata": {},
   "source": [
    "## 迭代器\n",
    "只要定义了__next__方法，就是一个迭代器"
   ]
  },
  {
   "cell_type": "code",
   "execution_count": null,
   "metadata": {},
   "outputs": [],
   "source": []
  }
 ],
 "metadata": {
  "kernelspec": {
   "display_name": "Python 3.8.18 64-bit ('dl': conda)",
   "language": "python",
   "name": "python3"
  },
  "language_info": {
   "codemirror_mode": {
    "name": "ipython",
    "version": 3
   },
   "file_extension": ".py",
   "mimetype": "text/x-python",
   "name": "python",
   "nbconvert_exporter": "python",
   "pygments_lexer": "ipython3",
   "version": "3.8.18"
  },
  "orig_nbformat": 4,
  "vscode": {
   "interpreter": {
    "hash": "bfd958c2adf4b593a1f2bd822cd12e6d6475bc9080d65cab159530eaff4fd7a8"
   }
  }
 },
 "nbformat": 4,
 "nbformat_minor": 2
}
