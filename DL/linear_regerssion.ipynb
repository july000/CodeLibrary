{
 "cells": [
  {
   "cell_type": "code",
   "execution_count": 3,
   "metadata": {},
   "outputs": [
    {
     "name": "stdout",
     "output_type": "stream",
     "text": [
      "first parameter :  1\n",
      "Positional arguments (args): (2, 3)\n",
      "Keyword arguments (kwargs): {'name': 'John', 'age': 25}\n"
     ]
    }
   ],
   "source": [
    "def example_function(first, *args, **kwargs):\n",
    "    print(\"first parameter : \", first)\n",
    "    print(\"Positional arguments (args):\", args)\n",
    "    print(\"Keyword arguments (kwargs):\", kwargs)\n",
    "\n",
    "# 调用示例函数\n",
    "example_function(1, 2, 3, name='John', age=25)"
   ]
  },
  {
   "cell_type": "code",
   "execution_count": null,
   "metadata": {},
   "outputs": [],
   "source": []
  }
 ],
 "metadata": {
  "kernelspec": {
   "display_name": "Python 3.8.18 64-bit ('dl': conda)",
   "language": "python",
   "name": "python3"
  },
  "language_info": {
   "codemirror_mode": {
    "name": "ipython",
    "version": 3
   },
   "file_extension": ".py",
   "mimetype": "text/x-python",
   "name": "python",
   "nbconvert_exporter": "python",
   "pygments_lexer": "ipython3",
   "version": "3.8.18"
  },
  "orig_nbformat": 4,
  "vscode": {
   "interpreter": {
    "hash": "bfd958c2adf4b593a1f2bd822cd12e6d6475bc9080d65cab159530eaff4fd7a8"
   }
  }
 },
 "nbformat": 4,
 "nbformat_minor": 2
}
