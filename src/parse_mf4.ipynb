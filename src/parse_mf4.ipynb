{
 "cells": [
  {
   "cell_type": "code",
   "execution_count": 1,
   "metadata": {},
   "outputs": [
    {
     "name": "stderr",
     "output_type": "stream",
     "text": [
      "ldf is not supported\n",
      "xls is not supported\n",
      "xlsx is not supported\n"
     ]
    }
   ],
   "source": [
    "from asammdf import MDF"
   ]
  },
  {
   "cell_type": "code",
   "execution_count": 45,
   "metadata": {},
   "outputs": [],
   "source": [
    "# 打开MF4文件\n",
    "mdf = MDF('G:\\\\wxwork\\\\WXWork\\\\1688853099564451\\\\Cache\\\\File\\\\2023-07\\\\Gen5_2022-06-27_14-37_0102.MF4')\n",
    "# print(mdf.info())   # 返回类型是dict, key是group n, value是对应的group的每一列(channel), 每一列就是一个channel, value是一个dict\n",
    "# print(mdf.info()['group 1'])"
   ]
  },
  {
   "cell_type": "code",
   "execution_count": null,
   "metadata": {},
   "outputs": [],
   "source": [
    "# 获取mdf的信息，关于group以及对应的channel(列)的信息\n",
    "# print(mdf.info())   # 返回类型是dict, key是group n, value是对应的group的每一列(channel), 每一列就是一个channel, value是一个dict\n",
    "# print(mdf.info()['group 1'])"
   ]
  },
  {
   "cell_type": "code",
   "execution_count": 68,
   "metadata": {},
   "outputs": [
    {
     "name": "stdout",
     "output_type": "stream",
     "text": [
      "['__class__', '__contains__', '__delattr__', '__dir__', '__doc__', '__eq__', '__format__', '__ge__', '__getattribute__', '__getitem__', '__gt__', '__hash__', '__init__', '__init_subclass__', '__le__', '__lt__', '__module__', '__ne__', '__new__', '__reduce__', '__reduce_ex__', '__repr__', '__setattr__', '__setitem__', '__sizeof__', '__slots__', '__str__', '__subclasshook__', 'channel_dependencies', 'channel_group', 'channels', 'clear', 'data_blocks', 'data_blocks_info_generator', 'data_group', 'data_location', 'get_data_blocks', 'get_signal_data_blocks', 'read_split_count', 'record', 'record_size', 'set_blocks_info', 'signal_data', 'signal_types', 'single_channel_dtype', 'sorted', 'string_dtypes', 'trigger', 'uses_ld']\n",
      "======================\n",
      "[<asammdf.blocks.v4_blocks.Channel object at 0x0000013B252C51C0>, <asammdf.blocks.v4_blocks.Channel object at 0x0000013B25249940>]\n"
     ]
    }
   ],
   "source": [
    "# 获取mdf的group的信息\n",
    "print(dir(mdf.groups[0]))\n",
    "print(\"======================\")\n",
    "print(mdf.groups[0].channel_dependencies)\n",
    "print(dir(mdf.groups[0].channel_group))\n",
    "print(type(mdf.groups[0].channels))\n",
    "# print(mdf.groups[0].data_blocks)\n",
    "# print(mdf.groups[0].data_group)\n",
    "# print(mdf.groups[0].channel_dependencies)"
   ]
  },
  {
   "cell_type": "code",
   "execution_count": null,
   "metadata": {},
   "outputs": [],
   "source": [
    "# print(len(mdf.virtual_groups))\n",
    "for k, v in mdf.virtual_groups.items():\n",
    "\n",
    "    print(k, v.groups)"
   ]
  },
  {
   "cell_type": "code",
   "execution_count": 100,
   "metadata": {},
   "outputs": [],
   "source": [
    "# 按照group_index提取数据\n",
    "df = mdf.get_group(46)\n",
    "# print(df.head())\n",
    "df.to_csv(\"./output.csv\")"
   ]
  },
  {
   "cell_type": "code",
   "execution_count": 88,
   "metadata": {},
   "outputs": [
    {
     "name": "stdout",
     "output_type": "stream",
     "text": [
      "t ['__bytes__', '__class__', '__contains__', '__delattr__', '__dir__', '__doc__', '__eq__', '__format__', '__ge__', '__getattribute__', '__getitem__', '__gt__', '__hash__', '__init__', '__init_subclass__', '__le__', '__lt__', '__module__', '__ne__', '__new__', '__reduce__', '__reduce_ex__', '__repr__', '__setattr__', '__setitem__', '__sizeof__', '__slots__', '__str__', '__subclasshook__', 'address', 'attachment', 'attachment_addr', 'attachment_nr', 'bit_count', 'bit_offset', 'block_len', 'byte_offset', 'channel_type', 'comment', 'comment_addr', 'component_addr', 'conversion', 'conversion_addr', 'data_block_addr', 'data_type', 'default_X_cg_addr', 'default_X_ch_addr', 'default_X_dg_addr', 'display_names', 'dtype_fmt', 'flags', 'id', 'links_nr', 'lower_ext_limit', 'lower_limit', 'max_raw_value', 'metadata', 'min_raw_value', 'name', 'name_addr', 'next_ch_addr', 'pos_invalidation_bit', 'precision', 'reserved0', 'reserved1', 'source', 'source_addr', 'standard_C_size', 'sync_type', 'to_blocks', 'unit', 'unit_addr', 'upper_ext_limit', 'upper_limit']\n",
      "t\n"
     ]
    },
    {
     "ename": "TypeError",
     "evalue": "'ChannelConversion' object is not callable",
     "output_type": "error",
     "traceback": [
      "\u001b[1;31m---------------------------------------------------------------------------\u001b[0m",
      "\u001b[1;31mTypeError\u001b[0m                                 Traceback (most recent call last)",
      "Cell \u001b[1;32mIn[88], line 8\u001b[0m\n\u001b[0;32m      6\u001b[0m \u001b[38;5;28mprint\u001b[39m(channel\u001b[38;5;241m.\u001b[39mname, \u001b[38;5;28mdir\u001b[39m(channel))\n\u001b[0;32m      7\u001b[0m \u001b[38;5;28mprint\u001b[39m(channel\u001b[38;5;241m.\u001b[39mname)\n\u001b[1;32m----> 8\u001b[0m \u001b[38;5;28mprint\u001b[39m(\u001b[43mchannel\u001b[49m\u001b[38;5;241;43m.\u001b[39;49m\u001b[43mconversion\u001b[49m\u001b[43m(\u001b[49m\u001b[43m)\u001b[49m)\n",
      "\u001b[1;31mTypeError\u001b[0m: 'ChannelConversion' object is not callable"
     ]
    }
   ],
   "source": [
    "channels = mdf.groups[46].channels\n",
    "# data = mdf.groups[0].data\n",
    "# print(dir(mdf.groups[0]))\n",
    "\n",
    "for channel in channels:\n",
    "    print(channel.name, dir(channel))\n",
    "    print(channel.name)\n",
    "    print(channel.conversion)"
   ]
  },
  {
   "cell_type": "code",
   "execution_count": 90,
   "metadata": {},
   "outputs": [],
   "source": [
    "# 导出所有的group为csv文件\n",
    "# mdf.export('csv', './output.csv')"
   ]
  },
  {
   "cell_type": "code",
   "execution_count": null,
   "metadata": {},
   "outputs": [],
   "source": [
    "mdf.export('csv', './output.fileter.csv', single_time_base = True, time_from_zero=True)"
   ]
  },
  {
   "cell_type": "markdown",
   "metadata": {},
   "source": [
    " 'channels_db', 'cleanup_timestamps', 'close', 'compact_vlsd', 'concatenate', 'configure', 'convert', 'copy_on_get', 'cut', 'determine_max_vlsd_sample_size', 'events', 'export', 'extend', 'extract_attachment', 'extract_bus_logging', 'file_comment', 'file_history', 'file_limit', 'filter', 'get', 'get_bus_signal', 'get_can_signal', 'get_channel_comment', 'get_channel_metadata', 'get_channel_name', 'get_channel_unit', 'get_group', 'get_invalidation_bits', 'get_lin_signal', 'get_master', 'groups', 'header', 'identification', 'included_channels', 'info', 'iter_channels', 'iter_get', 'iter_groups', 'iter_to_dataframe', 'last_call_info', 'load_filter', 'masters_db', 'name', 'original_name', 'progress', 'reload_header', 'resample', 'save', 'scramble', 'search', 'select', 'stack', 'start_time', 'temporary_folder', 'to_dataframe', 'use_load_filter', 'version', 'virtual_groups', 'virtual_groups_map', 'vlsd_max_length', 'whereis']"
   ]
  },
  {
   "cell_type": "code",
   "execution_count": 32,
   "metadata": {},
   "outputs": [
    {
     "ename": "AttributeError",
     "evalue": "'Group' object has no attribute 'timestamps'",
     "output_type": "error",
     "traceback": [
      "\u001b[1;31m---------------------------------------------------------------------------\u001b[0m",
      "\u001b[1;31mAttributeError\u001b[0m                            Traceback (most recent call last)",
      "Cell \u001b[1;32mIn[32], line 7\u001b[0m\n\u001b[0;32m      4\u001b[0m \u001b[38;5;66;03m# 遍历并打印组信息\u001b[39;00m\n\u001b[0;32m      5\u001b[0m \u001b[38;5;28;01mfor\u001b[39;00m group \u001b[38;5;129;01min\u001b[39;00m groups:\n\u001b[0;32m      6\u001b[0m     \u001b[38;5;66;03m# group_name = group.name\u001b[39;00m\n\u001b[1;32m----> 7\u001b[0m     start_time \u001b[38;5;241m=\u001b[39m \u001b[43mgroup\u001b[49m\u001b[38;5;241;43m.\u001b[39;49m\u001b[43mtimestamps\u001b[49m()[\u001b[38;5;241m0\u001b[39m]\n\u001b[0;32m      8\u001b[0m     stop_time \u001b[38;5;241m=\u001b[39m group\u001b[38;5;241m.\u001b[39mtimestamps()[\u001b[38;5;241m-\u001b[39m\u001b[38;5;241m1\u001b[39m]\n\u001b[0;32m     10\u001b[0m     \u001b[38;5;66;03m# print(\"Group Name:\", group_name)\u001b[39;00m\n",
      "\u001b[1;31mAttributeError\u001b[0m: 'Group' object has no attribute 'timestamps'"
     ]
    }
   ],
   "source": [
    "# 获取所有组信息\n",
    "groups = mdf.groups\n",
    "\n",
    "# 遍历并打印组信息\n",
    "for group in groups:\n",
    "    group_name = group.name\n",
    "    start_time = group.timestamps()[0]\n",
    "    stop_time = group.timestamps()[-1]\n",
    "\n",
    "    # print(\"Group Name:\", group_name)\n",
    "    print(\"Start Time:\", start_time)\n",
    "    print(\"Stop Time:\", stop_time)\n",
    "    print(\"-------------------------------------\")\n",
    "\n",
    "# 关闭MF4文件\n",
    "mdf.close()"
   ]
  },
  {
   "cell_type": "code",
   "execution_count": null,
   "metadata": {},
   "outputs": [],
   "source": [
    "# 获取所有通道信息\n",
    "channels = mdf.channels_db\n",
    "print(dir(channels))\n",
    "print(channels.keys())\n",
    "# print(channels)"
   ]
  },
  {
   "cell_type": "code",
   "execution_count": 12,
   "metadata": {},
   "outputs": [
    {
     "name": "stdout",
     "output_type": "stream",
     "text": [
      "t\n"
     ]
    },
    {
     "ename": "AttributeError",
     "evalue": "'str' object has no attribute 'name'",
     "output_type": "error",
     "traceback": [
      "\u001b[1;31m---------------------------------------------------------------------------\u001b[0m",
      "\u001b[1;31mAttributeError\u001b[0m                            Traceback (most recent call last)",
      "Cell \u001b[1;32mIn[12], line 8\u001b[0m\n\u001b[0;32m      6\u001b[0m \u001b[38;5;28;01mif\u001b[39;00m i \u001b[38;5;241m>\u001b[39m \u001b[38;5;241m1\u001b[39m:\n\u001b[0;32m      7\u001b[0m     \u001b[38;5;28;01mbreak\u001b[39;00m\n\u001b[1;32m----> 8\u001b[0m channel_name \u001b[38;5;241m=\u001b[39m \u001b[43mchannel\u001b[49m\u001b[38;5;241;43m.\u001b[39;49m\u001b[43mname\u001b[49m\n\u001b[0;32m      9\u001b[0m data_type \u001b[38;5;241m=\u001b[39m channel\u001b[38;5;241m.\u001b[39mconversion\u001b[38;5;241m.\u001b[39mphysical_unit\n\u001b[0;32m     10\u001b[0m sample_rate \u001b[38;5;241m=\u001b[39m channel\u001b[38;5;241m.\u001b[39msample_rate\n",
      "\u001b[1;31mAttributeError\u001b[0m: 'str' object has no attribute 'name'"
     ]
    }
   ],
   "source": [
    "# 遍历并打印通道信息\n",
    "i = 0\n",
    "for channel in channels:\n",
    "    print(channel)\n",
    "\n",
    "    if i > 1:\n",
    "        break\n",
    "    channel_name = channel.name\n",
    "    data_type = channel.conversion.physical_unit\n",
    "    sample_rate = channel.sample_rate\n",
    "    data_unit = channel.conversion.physical_unit_string\n",
    "\n",
    "    print(\"Channel Name:\", channel_name)\n",
    "    print(\"Data Type:\", data_type)\n",
    "    print(\"Sample Rate:\", sample_rate)\n",
    "    print(\"Data Unit:\", data_unit)\n",
    "    print(\"-------------------------------------\")\n",
    "    i += 1"
   ]
  },
  {
   "cell_type": "code",
   "execution_count": 101,
   "metadata": {},
   "outputs": [
    {
     "name": "stdout",
     "output_type": "stream",
     "text": [
      "Index(['timestamps', 'IFC_RollingCounter_ADAS_1', 'IFC_obj01_WidthStdDev',\n",
      "       'IFC_obj01_Width', 'IFC_obj01_TypeProb', 'IFC_obj01_TTIPC_StdDev',\n",
      "       'IFC_obj01_TTIPC', 'IFC_obj01_Sync_Counter', 'IFC_obj01_Rel_VyStdDev',\n",
      "       'IFC_obj01_Rel_Vy',\n",
      "       ...\n",
      "       'IFC_obj09_Motion_Status', 'IFC_obj09_Type', 'IFC_obj09_Rel_VyValid',\n",
      "       'IFC_obj09_Rel_VyStdDevValid', 'IFC_obj09_Rel_VxValid',\n",
      "       'IFC_obj09_Rel_VxStdDevValid', 'IFC_obj09_Measured',\n",
      "       'IFC_obj09_HeadOrientation', 'IFC_obj09_DirIndicator',\n",
      "       'IFC_obj09_BrakeLight'],\n",
      "      dtype='object', length=961)\n"
     ]
    }
   ],
   "source": [
    "import pandas as pd\n",
    "\n",
    "df = pd.read_csv(\"D:\\\\cybertron\\\\Cybertron\\\\Tools\\\\TrajectoryProcess\\\\test\\\\changcheng\\\\ifc_od\\\\ifc_od.csv\")\n",
    "print(df.columns)"
   ]
  },
  {
   "cell_type": "code",
   "execution_count": 102,
   "metadata": {},
   "outputs": [
    {
     "name": "stdout",
     "output_type": "stream",
     "text": [
      "Index(['timestamps', 'IFC_RollingCounter_ADAS_1', 'IFC_obj01_WidthStdDev',\n",
      "       'IFC_obj01_Width', 'IFC_obj01_TypeProb', 'IFC_obj01_TTIPC_StdDev',\n",
      "       'IFC_obj01_TTIPC', 'IFC_obj01_Sync_Counter', 'IFC_obj01_Rel_VyStdDev',\n",
      "       'IFC_obj01_Rel_Vy', 'IFC_obj01_Rel_VxStdDev', 'IFC_obj01_Rel_Vx',\n",
      "       'IFC_obj01_PhiRightStdDev', 'IFC_obj01_PhiRight',\n",
      "       'IFC_obj01_PhiLeftStdDev', 'IFC_obj01_PhiLeft',\n",
      "       'IFC_obj01_PhiBottomStdDev', 'IFC_obj01_PhiBottom',\n",
      "       'IFC_obj01_LengthStdDev', 'IFC_obj01_Length', 'IFC_obj01_ID',\n",
      "       'IFC_obj01_HeightStdDev', 'IFC_obj01_Height', 'IFC_obj01_HeadingStdDev',\n",
      "       'IFC_obj01_Heading', 'IFC_obj01_ExistProb', 'IFC_obj01_DyStdDev',\n",
      "       'IFC_obj01_Dy', 'IFC_obj01_DxStdDev', 'IFC_obj01_Dx',\n",
      "       'IFC_obj01_angle_rate_StdDev', 'IFC_obj01_angle_rate',\n",
      "       'IFC_obj01_angle_3DStdDev', 'IFC_obj01_angle_3D',\n",
      "       'IFC_obj01_abs_AyStdDev', 'IFC_obj01_abs_Ay', 'IFC_obj01_abs_AxStdDev',\n",
      "       'IFC_obj01_abs_Ax', 'IFC_Checksum_ADAS_1', 'IFC_obj01_Motion_Status',\n",
      "       'IFC_obj01_Type', 'IFC_obj01_Rel_VyValid',\n",
      "       'IFC_obj01_Rel_VyStdDevValid', 'IFC_obj01_Rel_VxValid',\n",
      "       'IFC_obj01_Rel_VxStdDevValid', 'IFC_obj01_Measured',\n",
      "       'IFC_obj01_HeadOrientation', 'IFC_obj01_DirIndicator',\n",
      "       'IFC_obj01_BrakeLight'],\n",
      "      dtype='object')\n"
     ]
    }
   ],
   "source": [
    "df = pd.read_csv(\"G:\\\\CyTrafficEditor\\\\CyTraffic\\\\data\\\\test_cases\\\\changcheng\\\\output.csv\")\n",
    "print(df.columns)"
   ]
  },
  {
   "cell_type": "code",
   "execution_count": 106,
   "metadata": {},
   "outputs": [
    {
     "data": {
      "text/plain": [
       "0.5729577951308232"
      ]
     },
     "execution_count": 106,
     "metadata": {},
     "output_type": "execute_result"
    }
   ],
   "source": [
    "import math\n",
    "math.degrees(0.01)"
   ]
  },
  {
   "cell_type": "code",
   "execution_count": 103,
   "metadata": {},
   "outputs": [
    {
     "name": "stdout",
     "output_type": "stream",
     "text": [
      "Pedestrian\n"
     ]
    }
   ],
   "source": [
    "bytes_string = b'Pedestrian'\n",
    "string = bytes_string.decode('utf-8')\n",
    "print(string)"
   ]
  },
  {
   "cell_type": "code",
   "execution_count": 111,
   "metadata": {},
   "outputs": [
    {
     "name": "stdout",
     "output_type": "stream",
     "text": [
      "Active code page: 65001\n",
      "# packages in environment at g:\\anaconda\\envs\\data-process:\n",
      "#\n",
      "# Name                    Version                   Build  Channel\n",
      "annotated-types           0.5.0                    pypi_0    pypi\n",
      "anyio                     3.7.1                    pypi_0    pypi\n",
      "asammdf                   7.3.14                   pypi_0    pypi\n",
      "asttokens                 2.2.1              pyhd8ed1ab_0    https://mirrors.tuna.tsinghua.edu.cn/anaconda/cloud/conda-forge\n",
      "attrs                     22.2.0                   pypi_0    pypi\n",
      "backcall                  0.2.0              pyh9f0ad1d_0    https://mirrors.tuna.tsinghua.edu.cn/anaconda/cloud/conda-forge\n",
      "backports                 1.0                pyhd8ed1ab_3    https://mirrors.tuna.tsinghua.edu.cn/anaconda/cloud/conda-forge\n",
      "backports.functools_lru_cache 1.6.4              pyhd8ed1ab_0    https://mirrors.tuna.tsinghua.edu.cn/anaconda/cloud/conda-forge\n",
      "bagpy                     0.5                      pypi_0    pypi\n",
      "bezier                    2021.2.12                pypi_0    pypi\n",
      "bitstring                 4.0.1                    pypi_0    pypi\n",
      "blinker                   1.6.2                    pypi_0    pypi\n",
      "bzip2                     1.0.8                h8ffe710_4    https://mirrors.tuna.tsinghua.edu.cn/anaconda/cloud/conda-forge\n",
      "ca-certificates           2022.12.7            h5b45459_0    https://mirrors.tuna.tsinghua.edu.cn/anaconda/cloud/conda-forge\n",
      "canmatrix                 1.0                      pypi_0    pypi\n",
      "catkin-pkg                0.5.2                    pypi_0    pypi\n",
      "certifi                   2022.12.7                pypi_0    pypi\n",
      "cffi                      1.15.1                   pypi_0    pypi\n",
      "changefinder              0.3                      pypi_0    pypi\n",
      "charset-normalizer        3.0.1                    pypi_0    pypi\n",
      "click                     8.1.3                    pypi_0    pypi\n",
      "click-plugins             1.1.1                    pypi_0    pypi\n",
      "cligj                     0.7.2                    pypi_0    pypi\n",
      "colorama                  0.4.6              pyhd8ed1ab_0    https://mirrors.tuna.tsinghua.edu.cn/anaconda/cloud/conda-forge\n",
      "comm                      0.1.3              pyhd8ed1ab_0    https://mirrors.tuna.tsinghua.edu.cn/anaconda/cloud/conda-forge\n",
      "contourpy                 1.0.6                    pypi_0    pypi\n",
      "cycler                    0.11.0                   pypi_0    pypi\n",
      "debugpy                   1.6.7            py39h99910a6_0    https://mirrors.tuna.tsinghua.edu.cn/anaconda/cloud/conda-forge\n",
      "decorator                 5.1.1              pyhd8ed1ab_0    https://mirrors.tuna.tsinghua.edu.cn/anaconda/cloud/conda-forge\n",
      "disjoint-set              0.7.3                    pypi_0    pypi\n",
      "distro                    1.8.0                    pypi_0    pypi\n",
      "dnspython                 2.3.0                    pypi_0    pypi\n",
      "docutils                  0.19                     pypi_0    pypi\n",
      "et-xmlfile                1.1.0                    pypi_0    pypi\n",
      "exceptiongroup            1.1.0                    pypi_0    pypi\n",
      "executing                 1.2.0              pyhd8ed1ab_0    https://mirrors.tuna.tsinghua.edu.cn/anaconda/cloud/conda-forge\n",
      "fastapi                   0.100.0                  pypi_0    pypi\n",
      "figures                   0.4.4                    pypi_0    pypi\n",
      "filterpy                  1.4.5                    pypi_0    pypi\n",
      "fiona                     1.9.1                    pypi_0    pypi\n",
      "flashtext                 2.7                      pypi_0    pypi\n",
      "flask                     2.3.2                    pypi_0    pypi\n",
      "fonttools                 4.38.0                   pypi_0    pypi\n",
      "future                    0.18.3                   pypi_0    pypi\n",
      "geographiclib             2.0                      pypi_0    pypi\n",
      "geopandas                 0.12.2                   pypi_0    pypi\n",
      "geopy                     2.3.0                    pypi_0    pypi\n",
      "gevent                    23.7.0                   pypi_0    pypi\n",
      "gnupg                     2.3.1                    pypi_0    pypi\n",
      "greenlet                  2.0.2                    pypi_0    pypi\n",
      "gunicorn                  20.1.0                   pypi_0    pypi\n",
      "hungarian-algorithm       0.1.11                   pypi_0    pypi\n",
      "idna                      3.4                      pypi_0    pypi\n",
      "importlib-metadata        6.4.1              pyha770c72_0    https://mirrors.tuna.tsinghua.edu.cn/anaconda/cloud/conda-forge\n",
      "importlib-resources       5.12.0                   pypi_0    pypi\n",
      "importlib_metadata        6.4.1                hd8ed1ab_0    https://mirrors.tuna.tsinghua.edu.cn/anaconda/cloud/conda-forge\n",
      "iniconfig                 2.0.0                    pypi_0    pypi\n",
      "ipykernel                 6.22.0             pyh025b116_0    https://mirrors.tuna.tsinghua.edu.cn/anaconda/cloud/conda-forge\n",
      "ipython                   8.10.0                   pypi_0    pypi\n",
      "isal                      1.2.0                    pypi_0    pypi\n",
      "itsdangerous              2.1.2                    pypi_0    pypi\n",
      "jedi                      0.18.2             pyhd8ed1ab_0    https://mirrors.tuna.tsinghua.edu.cn/anaconda/cloud/conda-forge\n",
      "jinja2                    3.1.2                    pypi_0    pypi\n",
      "joblib                    1.2.0                    pypi_0    pypi\n",
      "jupyter_client            8.2.0              pyhd8ed1ab_0    https://mirrors.tuna.tsinghua.edu.cn/anaconda/cloud/conda-forge\n",
      "jupyter_core              5.3.0            py39hcbf5309_0    https://mirrors.tuna.tsinghua.edu.cn/anaconda/cloud/conda-forge\n",
      "kiwisolver                1.4.4                    pypi_0    pypi\n",
      "kneed                     0.8.2                    pypi_0    pypi\n",
      "libffi                    3.4.2                h8ffe710_5    https://mirrors.tuna.tsinghua.edu.cn/anaconda/cloud/conda-forge\n",
      "libsodium                 1.0.18               h8d14728_1    https://mirrors.tuna.tsinghua.edu.cn/anaconda/cloud/conda-forge\n",
      "libsqlite                 3.40.0               hcfcfb64_0    https://mirrors.tuna.tsinghua.edu.cn/anaconda/cloud/conda-forge\n",
      "libzlib                   1.2.13               hcfcfb64_4    https://mirrors.tuna.tsinghua.edu.cn/anaconda/cloud/conda-forge\n",
      "lxml                      4.9.2                    pypi_0    pypi\n",
      "lz4                       4.3.2                    pypi_0    pypi\n",
      "markupsafe                2.1.2                    pypi_0    pypi\n",
      "matplotlib                3.7.1                    pypi_0    pypi\n",
      "matplotlib-inline         0.1.6              pyhd8ed1ab_0    https://mirrors.tuna.tsinghua.edu.cn/anaconda/cloud/conda-forge\n",
      "munch                     2.5.0                    pypi_0    pypi\n",
      "natsort                   8.4.0                    pypi_0    pypi\n",
      "nest-asyncio              1.5.6              pyhd8ed1ab_0    https://mirrors.tuna.tsinghua.edu.cn/anaconda/cloud/conda-forge\n",
      "networkx                  3.1                      pypi_0    pypi\n",
      "nose                      1.3.7                    pypi_0    pypi\n",
      "numexpr                   2.8.5                    pypi_0    pypi\n",
      "numpy                     1.23.4                   pypi_0    pypi\n",
      "opencv-python             4.7.0.68                 pypi_0    pypi\n",
      "openpyxl                  3.0.10                   pypi_0    pypi\n",
      "openssl                   3.1.0                hcfcfb64_0    https://mirrors.tuna.tsinghua.edu.cn/anaconda/cloud/conda-forge\n",
      "packaging                 21.3                     pypi_0    pypi\n",
      "pandas                    1.5.1                    pypi_0    pypi\n",
      "parso                     0.8.3              pyhd8ed1ab_0    https://mirrors.tuna.tsinghua.edu.cn/anaconda/cloud/conda-forge\n",
      "patsy                     0.5.3                    pypi_0    pypi\n",
      "pickleshare               0.7.5                   py_1003    https://mirrors.tuna.tsinghua.edu.cn/anaconda/cloud/conda-forge\n",
      "pillow                    9.3.0                    pypi_0    pypi\n",
      "pip                       22.3.1             pyhd8ed1ab_0    https://mirrors.tuna.tsinghua.edu.cn/anaconda/cloud/conda-forge\n",
      "platformdirs              3.2.0              pyhd8ed1ab_0    https://mirrors.tuna.tsinghua.edu.cn/anaconda/cloud/conda-forge\n",
      "pluggy                    1.0.0                    pypi_0    pypi\n",
      "prompt-toolkit            3.0.37                   pypi_0    pypi\n",
      "prompt_toolkit            3.0.38               hd8ed1ab_0    https://mirrors.tuna.tsinghua.edu.cn/anaconda/cloud/conda-forge\n",
      "psutil                    5.9.4            py39ha55989b_0    https://mirrors.tuna.tsinghua.edu.cn/anaconda/cloud/conda-forge\n",
      "pure_eval                 0.2.2              pyhd8ed1ab_0    https://mirrors.tuna.tsinghua.edu.cn/anaconda/cloud/conda-forge\n",
      "py3rosmsgs                1.18.2                   pypi_0    pypi\n",
      "pybind11                  2.10.1                   pypi_0    pypi\n",
      "pyclothoids               0.1.4                    pypi_0    pypi\n",
      "pycparser                 2.21                     pypi_0    pypi\n",
      "pycryptodomex             3.17                     pypi_0    pypi\n",
      "pydantic                  2.0.2                    pypi_0    pypi\n",
      "pydantic-core             2.1.2                    pypi_0    pypi\n",
      "pygments                  2.14.0                   pypi_0    pypi\n",
      "pymap3d                   2.9.1                    pypi_0    pypi\n",
      "pymongo                   4.4.0                    pypi_0    pypi\n",
      "pyparsing                 3.0.9                    pypi_0    pypi\n",
      "pyproj                    3.4.1                    pypi_0    pypi\n",
      "pyqtgraph                 0.13.3                   pypi_0    pypi\n",
      "pyqtlet2                  0.9.3                    pypi_0    pypi\n",
      "pyquaternion              0.9.9                    pypi_0    pypi\n",
      "pyrosbag                  0.1.3                    pypi_0    pypi\n",
      "pyserial                  3.5                      pypi_0    pypi\n",
      "pyside6                   6.3.1                    pypi_0    pypi\n",
      "pyside6-addons            6.3.1                    pypi_0    pypi\n",
      "pyside6-essentials        6.3.1                    pypi_0    pypi\n",
      "pytest                    7.2.1                    pypi_0    pypi\n",
      "python                    3.9.13          hcf16a7b_0_cpython    https://mirrors.tuna.tsinghua.edu.cn/anaconda/cloud/conda-forge\n",
      "python-dateutil           2.8.2              pyhd8ed1ab_0    https://mirrors.tuna.tsinghua.edu.cn/anaconda/cloud/conda-forge\n",
      "python_abi                3.9                      3_cp39    https://mirrors.tuna.tsinghua.edu.cn/anaconda/cloud/conda-forge\n",
      "pytz                      2022.6                   pypi_0    pypi\n",
      "pywin32                   304              py39h99910a6_2    https://mirrors.tuna.tsinghua.edu.cn/anaconda/cloud/conda-forge\n",
      "pyyaml                    6.0                      pypi_0    pypi\n",
      "pyzmq                     25.0.2           py39hea35a22_0    https://mirrors.tuna.tsinghua.edu.cn/anaconda/cloud/conda-forge\n",
      "qtpy                      2.3.1                    pypi_0    pypi\n",
      "requests                  2.28.2                   pypi_0    pypi\n",
      "rollbar                   0.16.3                   pypi_0    pypi\n",
      "rospkg                    1.4.0                    pypi_0    pypi\n",
      "ruptures                  1.1.7                    pypi_0    pypi\n",
      "scikit-learn              1.1.3                    pypi_0    pypi\n",
      "scipy                     1.9.3                    pypi_0    pypi\n",
      "seaborn                   0.12.2                   pypi_0    pypi\n",
      "setuptools                65.5.1             pyhd8ed1ab_0    https://mirrors.tuna.tsinghua.edu.cn/anaconda/cloud/conda-forge\n",
      "setuptools-scm            7.1.0                    pypi_0    pypi\n",
      "shapely                   2.0.1                    pypi_0    pypi\n",
      "shiboken6                 6.3.1                    pypi_0    pypi\n",
      "six                       1.16.0             pyh6c4a22f_0    https://mirrors.tuna.tsinghua.edu.cn/anaconda/cloud/conda-forge\n",
      "sklearn                   0.0.post1                pypi_0    pypi\n",
      "sniffio                   1.3.0                    pypi_0    pypi\n",
      "sqlite                    3.40.0               hcfcfb64_0    https://mirrors.tuna.tsinghua.edu.cn/anaconda/cloud/conda-forge\n",
      "sqlparse                  0.4.3                    pypi_0    pypi\n",
      "stack_data                0.6.2              pyhd8ed1ab_0    https://mirrors.tuna.tsinghua.edu.cn/anaconda/cloud/conda-forge\n",
      "starlette                 0.27.0                   pypi_0    pypi\n",
      "statsmodels               0.13.5                   pypi_0    pypi\n",
      "textparser                0.24.0                   pypi_0    pypi\n",
      "threadpoolctl             3.1.0                    pypi_0    pypi\n",
      "tk                        8.6.12               h8ffe710_0    https://mirrors.tuna.tsinghua.edu.cn/anaconda/cloud/conda-forge\n",
      "tomli                     2.0.1                    pypi_0    pypi\n",
      "tornado                   6.2              py39ha55989b_1    https://mirrors.tuna.tsinghua.edu.cn/anaconda/cloud/conda-forge\n",
      "traitlets                 5.9.0              pyhd8ed1ab_0    https://mirrors.tuna.tsinghua.edu.cn/anaconda/cloud/conda-forge\n",
      "typing-extensions         4.7.1                    pypi_0    pypi\n",
      "tzdata                    2022f                h191b570_0    https://mirrors.tuna.tsinghua.edu.cn/anaconda/cloud/conda-forge\n",
      "ucrt                      10.0.22621.0         h57928b3_0    https://mirrors.tuna.tsinghua.edu.cn/anaconda/cloud/conda-forge\n",
      "unicorn                   2.0.1.post1              pypi_0    pypi\n",
      "urllib3                   1.26.13                  pypi_0    pypi\n",
      "vc                        14.3                 h3d8a991_9    https://mirrors.tuna.tsinghua.edu.cn/anaconda/cloud/conda-forge\n",
      "vs2015_runtime            14.32.31332          h1d6e394_9    https://mirrors.tuna.tsinghua.edu.cn/anaconda/cloud/conda-forge\n",
      "wcwidth                   0.2.6              pyhd8ed1ab_0    https://mirrors.tuna.tsinghua.edu.cn/anaconda/cloud/conda-forge\n",
      "websocket                 0.2.1                    pypi_0    pypi\n",
      "websocket-client          1.6.1                    pypi_0    pypi\n",
      "werkzeug                  2.3.6                    pypi_0    pypi\n",
      "wheel                     0.38.4             pyhd8ed1ab_0    https://mirrors.tuna.tsinghua.edu.cn/anaconda/cloud/conda-forge\n",
      "xmltodict                 0.13.0                   pypi_0    pypi\n",
      "xz                        5.2.6                h8d14728_0    https://mirrors.tuna.tsinghua.edu.cn/anaconda/cloud/conda-forge\n",
      "zeromq                    4.3.4                h0e60522_1    https://mirrors.tuna.tsinghua.edu.cn/anaconda/cloud/conda-forge\n",
      "zipp                      3.14.0                   pypi_0    pypi\n",
      "zope-event                5.0                      pypi_0    pypi\n",
      "zope-interface            6.0                      pypi_0    pypi\n",
      "\n",
      "Note: you may need to restart the kernel to use updated packages.\n"
     ]
    }
   ],
   "source": [
    "# conda list"
   ]
  }
 ],
 "metadata": {
  "kernelspec": {
   "display_name": "Python 3.9.13 64-bit ('data-process': conda)",
   "language": "python",
   "name": "python3"
  },
  "language_info": {
   "codemirror_mode": {
    "name": "ipython",
    "version": 3
   },
   "file_extension": ".py",
   "mimetype": "text/x-python",
   "name": "python",
   "nbconvert_exporter": "python",
   "pygments_lexer": "ipython3",
   "version": "3.9.13"
  },
  "orig_nbformat": 4,
  "vscode": {
   "interpreter": {
    "hash": "313660ec7a800b4c4d3e6332645c401daa4675ef6028991787ad2039cc167a5a"
   }
  }
 },
 "nbformat": 4,
 "nbformat_minor": 2
}
