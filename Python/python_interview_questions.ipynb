{
 "cells": [
  {
   "cell_type": "markdown",
   "metadata": {},
   "source": [
    "python 面试题目"
   ]
  },
  {
   "cell_type": "markdown",
   "metadata": {},
   "source": [
    "https://www.interviewbit.com/python-interview-questions/\n",
    "\n",
    "https://www.datacamp.com/blog/top-python-interview-questions-and-answers\n",
    "\n",
    "https://intellipaat.com/blog/interview-question/python-interview-questions/\n",
    "\n",
    "https://www.edureka.co/blog/interview-questions/python-interview-questions/\n",
    "\n",
    "https://www.simplilearn.com/tutorials/python-tutorial/python-interview-questions\n",
    "\n",
    "https://zhuanlan.zhihu.com/p/54430650"
   ]
  },
  {
   "cell_type": "markdown",
   "metadata": {},
   "source": [
    "#### Q1: What is Python?"
   ]
  },
  {
   "cell_type": "markdown",
   "metadata": {},
   "source": [
    "#### Explain PYTHONPATH\n",
    "* PYTHONPATH is an environment variable that specifies a list of directories to search for Python modules when importing them. PYTHONPATH 是一个环境变量，指定导入 Python 模块时搜索的目录列表\n",
    "* When you import a module in Python, Python looks for the module in the directories specified in sys.path, which is a list of directories that includes the current working directory and directories specified in PYTHONPATH. 当您在 Python 中导入模块时，Python 会在 sys.path 中指定的目录中查找该模块，该目录是包含当前工作目录和 PYTHONPATH 中指定的目录的目录列表。\n",
    "* 设置 PYTHONPATH 的唯一原因是为了维护不想安装在全局默认位置 (即 site-packages 目录) 的自定义 Python 库目录。\n",
    "##### Set PYTHONPATH in the terminal\n",
    "```\n",
    "$ export PYTHONPATH=/path/to/my/modules/        \n",
    "$ python my_script.py  \n",
    "```\n",
    "     \n",
    "##### Set PYTHONPATH in the script\n",
    "```\n",
    "import os       \n",
    "import sys      \n",
    "sys.path.insert(0, os.path.abspath(\"/path/to/my/modules/\"))  \n",
    "```\n",
    "   "
   ]
  },
  {
   "cell_type": "markdown",
   "metadata": {},
   "source": []
  },
  {
   "attachments": {
    "image.png": {
     "image/png": "[encoded data removed]"
    }
   },
   "cell_type": "markdown",
   "metadata": {},
   "source": [
    "#### Q2: What are *args and *kwargs?\n",
    "![image.png](attachment:image.png)\n",
    "\n",
    "[*args and *kwargs](https://www.geeksforgeeks.org/args-kwargs-python/)\n",
    "\n",
    "To pass a variable number of arguments to a function in Python, use the special syntax *args and **kwargs in the function specification. It is used to pass a variable-length, keyword-free argument list. By using the *, the variable we associate with the * becomes iterable, allowing you to do operations on it such as iterating over it and using higher-order operations like map and filter.\n",
    "\n",
    "当我们对应该在函数中传递的参数数量有疑问时，我们使用“通配符”或“*”符号（例如 *args 或 **kwargs）作为函数的参数。”\n",
    "\n",
    "##### What is Python *args?\n",
    "* is used to pass a variable number of arguments to a function. 用于将可变数量的参数传递给函数。\n",
    "* is usesd to pass a non-keyworded and variable-length arguments list. 它用于传递非关键字、可变长度参数列表。\n",
    "* by convention, it is often used with word args. 按照惯例，*通常与args这个单词一起使用\n",
    "* *args 允许您接受比您之前定义的形式参数数量更多的参数。使用 *args，可以将任意数量的额外参数附加到当前的形式参数（包括零个额外参数） \n",
    "##### What is Python **kwargs?\n",
    "* is used to pass a keyworded and variable-length arguments list.\n",
    "* We use the name kwargs with the double star. The reason is that the double star allows us to pass through keyword arguments (and any number of them). 我们使用带有双星的名称 kwargs。原因是双星允许我们传递关键字参数（以及任意数量的关键字参数）\n",
    "* you provide a name to the variable as you pass it into the function.\n",
    "* think of the kwargs as being a dictionary that maps each keyword to the value that we pass alongside it\n",
    "##### Using both *args and **kwargs in Python to call a function\n",
    "* *args receives arguments as a tuple.\n",
    "* **kwargs receives arguments as a dictionary."
   ]
  },
  {
   "cell_type": "code",
   "execution_count": 11,
   "metadata": {},
   "outputs": [],
   "source": [
    "# pip install -U ipykernel   #刚开始不能运行代码，需要安装这个"
   ]
  },
  {
   "cell_type": "code",
   "execution_count": 1,
   "metadata": {},
   "outputs": [
    {
     "name": "stdout",
     "output_type": "stream",
     "text": [
      "Hello\n",
      "Welcome\n",
      "to\n",
      "GeeksforGeeks\n"
     ]
    }
   ],
   "source": [
    "# \n",
    "def myFun(*argv):\n",
    "\tfor arg in argv:\n",
    "\t\tprint(arg)\n",
    "\n",
    "myFun('Hello', 'Welcome', 'to', 'GeeksforGeeks')\n"
   ]
  },
  {
   "cell_type": "code",
   "execution_count": 2,
   "metadata": {},
   "outputs": [
    {
     "name": "stdout",
     "output_type": "stream",
     "text": [
      "First argument : Hello\n",
      "Next argument through *argv : Welcome\n",
      "Next argument through *argv : to\n",
      "Next argument through *argv : GeeksforGeeks\n"
     ]
    }
   ],
   "source": [
    "# to illustrate *args with a first extra argument\n",
    "def myFun(arg1, *argv):\n",
    "\tprint(\"First argument :\", arg1)\n",
    "\tfor arg in argv:\n",
    "\t\tprint(\"Next argument through *argv :\", arg)\n",
    "\n",
    "\n",
    "myFun('Hello', 'Welcome', 'to', 'GeeksforGeeks')\n"
   ]
  },
  {
   "cell_type": "code",
   "execution_count": 3,
   "metadata": {},
   "outputs": [
    {
     "name": "stdout",
     "output_type": "stream",
     "text": [
      "first == Geeks\n",
      "mid == for\n",
      "last == Geeks\n"
     ]
    }
   ],
   "source": [
    "def myFun(**kwargs):\n",
    "\tfor key, value in kwargs.items():\n",
    "\t\tprint(\"%s == %s\" % (key, value))\n",
    "\n",
    "\n",
    "# Driver code\n",
    "myFun(first='Geeks', mid='for', last='Geeks')\n"
   ]
  },
  {
   "cell_type": "code",
   "execution_count": 5,
   "metadata": {},
   "outputs": [
    {
     "name": "stdout",
     "output_type": "stream",
     "text": [
      "args :  Hi\n",
      "first == Geeks\n",
      "mid == for\n",
      "last == Geeks\n"
     ]
    }
   ],
   "source": [
    "def myFun(arg1, **kwargs):\n",
    "\tprint(\"args : \", arg1)\n",
    "\tfor key, value in kwargs.items():\n",
    "\t\tprint(\"%s == %s\" % (key, value))\n",
    "\n",
    "\n",
    "# Driver code\n",
    "myFun(\"Hi\", first='Geeks', mid='for', last='Geeks')\n"
   ]
  },
  {
   "cell_type": "code",
   "execution_count": 7,
   "metadata": {},
   "outputs": [
    {
     "name": "stdout",
     "output_type": "stream",
     "text": [
      "arg1: Geeks\n",
      "arg2: for\n",
      "arg3: Geeks\n",
      "================================\n",
      "arg1: Geeks\n",
      "arg2: for\n",
      "arg3: Geeks\n"
     ]
    }
   ],
   "source": [
    "def myFun(arg1, arg2, arg3):\n",
    "\tprint(\"arg1:\", arg1)\n",
    "\tprint(\"arg2:\", arg2)\n",
    "\tprint(\"arg3:\", arg3)\n",
    "\n",
    "\n",
    "# Now we can use *args or **kwargs to\n",
    "# pass arguments to this function :\n",
    "args = (\"Geeks\", \"for\", \"Geeks\")\n",
    "myFun(*args)\n",
    "\n",
    "print(\"================================\")\n",
    "kwargs = {\"arg1\": \"Geeks\", \"arg2\": \"for\", \"arg3\": \"Geeks\"}\n",
    "myFun(**kwargs)\n"
   ]
  },
  {
   "cell_type": "code",
   "execution_count": 2,
   "metadata": {},
   "outputs": [
    {
     "name": "stdout",
     "output_type": "stream",
     "text": [
      "args:  ('geeks', 'for', 'geeks')\n",
      "kwargs:  {'first': 'Geeks', 'mid': 'for', 'last': 'Geeks'}\n"
     ]
    }
   ],
   "source": [
    "def myFun(*args, **kwargs):\n",
    "\tprint(\"args: \", args)\n",
    "\tprint(\"kwargs: \", kwargs)\n",
    "\n",
    "\n",
    "# Now we can use both *args ,**kwargs\n",
    "# to pass arguments to this function :\n",
    "myFun('geeks', 'for', 'geeks', first=\"Geeks\", mid=\"for\", last=\"Geeks\")\n"
   ]
  },
  {
   "cell_type": "code",
   "execution_count": 9,
   "metadata": {},
   "outputs": [
    {
     "name": "stdout",
     "output_type": "stream",
     "text": [
      "red\n",
      "250\n"
     ]
    }
   ],
   "source": [
    "# defining car class\n",
    "class car():\n",
    "\t# args receives unlimited no. of arguments as an array\n",
    "\tdef __init__(self, *args):\n",
    "\t\t# access args index like array does\n",
    "\t\tself.speed = args[0]\n",
    "\t\tself.color = args[1]\n",
    "\n",
    "\n",
    "# creating objects of car class\n",
    "audi = car(200, 'red')\n",
    "bmw = car(250, 'black')\n",
    "mb = car(190, 'white')\n",
    "\n",
    "# printing the color and speed of the cars\n",
    "print(audi.color)\n",
    "print(bmw.speed)\n"
   ]
  },
  {
   "cell_type": "code",
   "execution_count": 10,
   "metadata": {},
   "outputs": [
    {
     "name": "stdout",
     "output_type": "stream",
     "text": [
      "red\n",
      "250\n"
     ]
    }
   ],
   "source": [
    "# defining car class\n",
    "class car():\n",
    "\t# args receives unlimited no. of arguments as an array\n",
    "\tdef __init__(self, **kwargs):\n",
    "\t\t# access args index like array does\n",
    "\t\tself.speed = kwargs['s']\n",
    "\t\tself.color = kwargs['c']\n",
    "\n",
    "\n",
    "# creating objects of car class\n",
    "audi = car(s=200, c='red')\n",
    "bmw = car(s=250, c='black')\n",
    "mb = car(s=190, c='white')\n",
    "\n",
    "# printing the color and speed of cars\n",
    "print(audi.color)\n",
    "print(bmw.speed)\n"
   ]
  },
  {
   "cell_type": "markdown",
   "metadata": {},
   "source": []
  },
  {
   "cell_type": "markdown",
   "metadata": {},
   "source": [
    "#### Constructors in Python（__new__ VS __init__ in Python）\n",
    "* These two methods play a vital role in the creation and initialisation of objects in Python.\n",
    "##### The __new__ Magic Method\n",
    "* will be called when an object is created\n",
    "* the __new__ method is defined as a static method which requires to pass a parameter cls. cls represents the class that is needed to be instantiated, and the compiler automatically provides this parameter at the time of instantiation.\n",
    "* constructor function\n",
    "* It's called first and is responsible for returning a new instance of your class.\n",
    "* In general, you shouldn't need to override __new__unless you're subclassing an immutable type like str, int, Unicode, or tuple.\n",
    "##### The __init__ Magic Method\n",
    "* initializer function\n",
    "* doesn't return anything; it's only responsible for initializing the instance after it's been created\n",
    "##### Differences between __new__ and __init__\n",
    "##### When to use __new__ in Python?\n",
    "https://medium.com/@zackbunch/when-to-use-new-in-python-58632249b9cc"
   ]
  },
  {
   "cell_type": "code",
   "execution_count": null,
   "metadata": {},
   "outputs": [],
   "source": [
    "class Point:\n",
    "\n",
    "    def __init__(self, data):\n",
    "        '''\n",
    "        The self parameter is a reference to the current instance of the class and\n",
    "        is used to access variables that belong to the class.\n",
    "        '''\n",
    "        self.num = data\n",
    "\n",
    "    def print_num(self):\n",
    "        print(self.num)\n",
    "\n",
    "\n",
    "obj = Point(100)\n",
    "obj.print_num()     "
   ]
  },
  {
   "cell_type": "code",
   "execution_count": 5,
   "metadata": {},
   "outputs": [
    {
     "name": "stdout",
     "output_type": "stream",
     "text": [
      "created\n",
      "init\n",
      "success!\n"
     ]
    }
   ],
   "source": [
    "class Person:\n",
    "\n",
    "    def __new__(cls):\n",
    "        print(\"created\")\n",
    "        return object.__new__(cls)\n",
    "\n",
    "    def __init__(self):\n",
    "        print(\"init\")\n",
    "        self.instance_method()\n",
    "\n",
    "    def instance_method(self):\n",
    "        print('success!')\n",
    "\n",
    "personObj = Person()"
   ]
  },
  {
   "cell_type": "code",
   "execution_count": 7,
   "metadata": {},
   "outputs": [
    {
     "name": "stdout",
     "output_type": "stream",
     "text": [
      "('hello', 'medium')\n"
     ]
    }
   ],
   "source": [
    "class LowerCaseTuple(tuple):\n",
    "   def __new__(cls, iterable):\n",
    "      lower_iterable = (l.lower() for l in iterable)\n",
    "      return super().__new__(cls, lower_iterable)\n",
    "def lower_case_example():\n",
    "   print(LowerCaseTuple(['HELLO', 'MEDIUM']))\n",
    "def main():\n",
    "   lower_case_example()\n",
    "main()"
   ]
  },
  {
   "cell_type": "markdown",
   "metadata": {},
   "source": [
    "#### How does break, continue and pass work?\n",
    "|关键字 |作用 |\n",
    "|-----|-----|\n",
    "| break | 跳出循环|\n",
    "| continue | 执行下一次循环 | \n",
    "| pass | 相当于null操作，什么都不做，只是语法上的需要 |\n"
   ]
  },
  {
   "cell_type": "code",
   "execution_count": 12,
   "metadata": {},
   "outputs": [
    {
     "name": "stdout",
     "output_type": "stream",
     "text": [
      "g\n",
      "e\n",
      "e\n",
      "Pass executed\n",
      "k\n",
      "s\n"
     ]
    }
   ],
   "source": [
    "# Python program to demonstrate\n",
    "# pass statement\n",
    "\n",
    "s = \"geeks\"\n",
    "\n",
    "# Empty loop\n",
    "for i in s:\n",
    "\t# No error will be raised\n",
    "\tpass\n",
    "\n",
    "# Empty function\n",
    "def fun():\n",
    "\tpass\n",
    "\n",
    "# No error will be raised\n",
    "fun()\n",
    "\n",
    "# Pass statement\n",
    "for i in s:\n",
    "\tif i == 'k':\n",
    "\t\tprint('Pass executed')\n",
    "\t\tpass\n",
    "\tprint(i)\n"
   ]
  },
  {
   "cell_type": "markdown",
   "metadata": {},
   "source": [
    "#### What does [::-1} do?\n",
    "[::-1] reprints a reversed copy of ordered data structures such as an array or a list. the original array or list remains unchanged."
   ]
  },
  {
   "cell_type": "code",
   "execution_count": 9,
   "metadata": {},
   "outputs": [
    {
     "name": "stdout",
     "output_type": "stream",
     "text": [
      "[3, 8, 2, 6, 3, 1]\n",
      "[1, 3, 6, 2, 8, 3]\n"
     ]
    }
   ],
   "source": [
    "a = [1,3,6,2,8,3]\n",
    "print(a[::-1])\n",
    "print(a)"
   ]
  },
  {
   "cell_type": "markdown",
   "metadata": {},
   "source": [
    "#### What is the difference between Python’s Module, Package and Library?\n",
    "##### What is Module in Python?\n",
    "* 简单理解，就是一个可执行的py脚本， import的就是一个module\n",
    "##### What is Package in Python?\n",
    "* 包就是一个包含模块集合（.py文件）的简单目录\n",
    "* 必须包含一个 __init__.py 文件，这个文件是一个空的文件(module), __init__.py Python File works as a Constructor for the Python Package.\n",
    "* 包只是一个命名空间。该包内还包含子包。\n",
    "Examples of Packages: \n",
    "* Numpy         \n",
    "* Pandas        \n",
    "Student(Package)        \n",
    "| __init__.py (Constructor)              \n",
    "| details.py (Module)       \n",
    "| marks.py (Module)         \n",
    "| collegeDetails.py (Module)            \n",
    "##### What is Library in Python\n",
    "* It is a reusable chunk of code that we can use by importing it into our program\n",
    "* 通常假设包是模块的集合，而库是包的集合\n",
    "\n",
    "Examples of Libraries: \n",
    "* Matplotlib\n",
    "* Pytorch\n",
    "* Pygame\n",
    "* Seaborn etc."
   ]
  },
  {
   "cell_type": "markdown",
   "metadata": {},
   "source": [
    "#### What are python iterators and generator?\n",
    "##### iterator\n",
    "* is an object\n",
    "* Technically, in Python, an iterator is an object which implements the iterator protocol, which consist of the methods __iter__()      Iter() method is used to initialize the iterator object so that the instance of this object can be used for iterating.\n",
    "\n",
    "and __next__()      The next() method is used to iterate over the iterable objects. The next() method returns the next value in the iterable object.\n",
    "\n",
    "*  contains a countable number of values. __len__()\n",
    "##### iterable\n",
    "* Lists, tuples, dictionaries, and sets, strings are all iterable objects\n",
    "* All these objects have a iter() method which is used to get an iterator:\n",
    "##### generator\n",
    "A Generator in Python is a function that returns an iterator using the Yield keyword.\n",
    "\n",
    "If the body of a def contains yield, the function automatically becomes a Python generator function. \n",
    "\n",
    "Python Generator functions return a generator object that is iterable\n",
    "\n",
    "Generator objects are used either by calling the next method of the generator object or using the generator object in a “for in” loop.\n",
    "* is a function\n",
    "* return a iterator, it does so with the yield keyword rather than return\n",
    "* using the yield keyword\n",
    "* using Python Generator Expression, it creates generator objects.          \n",
    "(expression for item in iterable)\n",
    "##### Applications of Generators in Python \n",
    "Suppose we create a stream of Fibonacci numbers, adopting the generator approach makes it trivial; we just have to call next(x) to get the next Fibonacci number without bothering about where or when the stream of numbers ends. A more practical type of stream processing is handling large data files such as log files. Generators provide a space-efficient method for such data processing as only parts of the file are handled at one given point in time. We can also use Iterators for these purposes, but Generator provides a quick way (We don’t need to write __next__ and __iter__ methods here).      \n",
    "\n",
    "##### When to use yield instead of return in Python?\n",
    "* suspends a function’s execution\n",
    "* sends a value back to the caller, but retains enough state to enable the function to resume where it left off\n",
    "* When the function resumes, it continues execution immediately after the last yield run.\n",
    "* This allows its code to produce a series of values over time, rather than computing them at once and sending them back like a list\n",
    "* Return sends a specified value back to its caller whereas Yield can produce a sequence of values. We should use yield when we want to iterate over a sequence, but don’t want to store the entire sequence in memory. \n",
    "\n",
    "##### 两者之间的区别\n",
    "在 Python 中，迭代器（Iterator）和生成器（Generator）都是用于处理可迭代对象的概念，但它们在实现和使用上有一些区别。\n",
    "\n",
    "实现方式:\n",
    "\n",
    "迭代器：迭代器是通过实现 __iter__() 和 __next__() 方法来创建的。__iter__() 方法返回迭代器对象本身，而 __next__() 方法返回迭代器的下一个元素。\n",
    "生成器：生成器是使用函数和 yield 语句实现的。函数中包含 yield 语句的函数被称为生成器函数，当生成器函数被调用时，它返回一个生成器对象。\n",
    "状态记录：\n",
    "\n",
    "迭代器：迭代器可以维护一个内部状态，用于记录当前迭代的位置。每次调用 __next__() 方法时，迭代器会返回下一个元素，并更新内部状态。\n",
    "生成器：生成器可以暂停和恢复执行。每次调用生成器的 __next__() 方法时，它会执行到 yield 语句处，并返回 yield 语句后的值。生成器会记录执行的位置，下次调用时从上次暂停的地方继续执行。\n",
    "内存占用：\n",
    "\n",
    "迭代器：迭代器一次只生成一个元素，并在需要时逐个生成。这意味着它们通常在内存中只保留当前元素和一些状态信息，从而节省内存。\n",
    "生成器：生成器可以根据需要生成一个元素，而不是一次生成所有元素。这使得它们非常适合处理大量数据或无限序列，因为它们不会一次性占用太多内存。\n",
    "使用方式：\n",
    "\n",
    "迭代器：迭代器适用于需要手动控制迭代过程的情况。我们可以使用 iter() 函数将可迭代对象转换为迭代器，并使用 next() 函数来获取下一个元素。\n",
    "生成器：生成器是一种更简洁、更易用的迭代器形式。我们可以像调用普通函数一样使用生成器函数，使用 yield 语句来返回元素，而不需要显式地实现迭代器协议。\n",
    "总的来说，迭代器和生成器都提供了一种处理可迭代对象的方式。迭代器是一种更底层的概念，需要手动实现迭代器协议。而生成器则是一种更高级、更便捷的迭代器形式，可以通过生成器函数和 yield 语句来创建。生成器在实现和使用上更加简洁，同时也具备延迟计算和节省内存的优势"
   ]
  },
  {
   "cell_type": "code",
   "execution_count": 10,
   "metadata": {},
   "outputs": [
    {
     "name": "stdout",
     "output_type": "stream",
     "text": [
      "1\n",
      "2\n",
      "3\n"
     ]
    }
   ],
   "source": [
    "# A generator function that yields 1 for first time,\n",
    "# 2 second time and 3 third time\n",
    "def simpleGeneratorFun():\n",
    "\tyield 1\t\t\n",
    "\tyield 2\t\t\n",
    "\tyield 3\t\t\n",
    "\n",
    "# Driver code to check above generator function\n",
    "for value in simpleGeneratorFun():\n",
    "\tprint(value)\n"
   ]
  },
  {
   "cell_type": "code",
   "execution_count": 13,
   "metadata": {},
   "outputs": [
    {
     "name": "stdout",
     "output_type": "stream",
     "text": [
      "1\n",
      "2\n",
      "3\n"
     ]
    }
   ],
   "source": [
    "# A Python program to demonstrate use of\n",
    "# generator object with next()\n",
    "\n",
    "# A generator function\n",
    "def simpleGeneratorFun():\n",
    "\tyield 1\n",
    "\tyield 2\n",
    "\tyield 3\n",
    "\n",
    "# x is a generator object\n",
    "x = simpleGeneratorFun()\n",
    "\n",
    "# Iterating over the generator object using next\n",
    "\n",
    "# In Python 3, __next__()\n",
    "print(next(x))\n",
    "print(next(x))\n",
    "print(next(x))\n"
   ]
  },
  {
   "cell_type": "code",
   "execution_count": 14,
   "metadata": {},
   "outputs": [
    {
     "name": "stdout",
     "output_type": "stream",
     "text": [
      "0\n",
      "1\n",
      "1\n",
      "2\n",
      "3\n",
      "\n",
      "Using for in loop\n",
      "0\n",
      "1\n",
      "1\n",
      "2\n",
      "3\n"
     ]
    }
   ],
   "source": [
    "# A simple generator for Fibonacci Numbers\n",
    "def fib(limit):\n",
    "\t\n",
    "\t# Initialize first two Fibonacci Numbers\n",
    "\ta, b = 0, 1\n",
    "\n",
    "\t# One by one yield next Fibonacci Number\n",
    "\twhile a < limit:\n",
    "\t\tyield a\n",
    "\t\ta, b = b, a + b\n",
    "\n",
    "# Create a generator object\n",
    "x = fib(5)\n",
    "\n",
    "# Iterating over the generator object using next\n",
    "# In Python 3, __next__()\n",
    "print(next(x))\n",
    "print(next(x))\n",
    "print(next(x))\n",
    "print(next(x))\n",
    "print(next(x))\n",
    "\n",
    "# Iterating over the generator object using for\n",
    "# in loop.\n",
    "print(\"\\nUsing for in loop\")\n",
    "for i in fib(5):\n",
    "\tprint(i)\n"
   ]
  },
  {
   "cell_type": "code",
   "execution_count": 16,
   "metadata": {},
   "outputs": [
    {
     "name": "stdout",
     "output_type": "stream",
     "text": [
      "<class 'generator'>\n",
      "0\n",
      "10\n",
      "20\n"
     ]
    }
   ],
   "source": [
    "# generator expression\n",
    "generator_exp = (i * 5 for i in range(5) if i%2==0)\n",
    "print(type(generator_exp))\n",
    "\n",
    "for i in generator_exp:\n",
    "\tprint(i)\n"
   ]
  },
  {
   "cell_type": "code",
   "execution_count": 17,
   "metadata": {},
   "outputs": [
    {
     "name": "stdout",
     "output_type": "stream",
     "text": [
      "1\n",
      "4\n",
      "9\n",
      "16\n",
      "25\n",
      "36\n",
      "49\n",
      "64\n",
      "81\n",
      "100\n"
     ]
    }
   ],
   "source": [
    "# A Python program to generate squares from 1\n",
    "# to 100 using yield and therefore generator\n",
    "\n",
    "# An infinite generator function that prints\n",
    "# next square number. It starts with 1\n",
    "\n",
    "\n",
    "def nextSquare():\n",
    "\ti = 1\n",
    "\n",
    "\t# An Infinite loop to generate squares\n",
    "\twhile True:\n",
    "\t\tyield i*i\n",
    "\t\ti += 1 # Next execution resumes\n",
    "\t\t# from this point\n",
    "\n",
    "\n",
    "# Driver code to test above generator\n",
    "# function\n",
    "for num in nextSquare():\n",
    "\tif num > 100:\n",
    "\t\tbreak\n",
    "\tprint(num)\n"
   ]
  },
  {
   "cell_type": "code",
   "execution_count": 13,
   "metadata": {},
   "outputs": [
    {
     "name": "stdout",
     "output_type": "stream",
     "text": [
      "<class '__main__.MyNumbers'>\n",
      "['__class__', '__delattr__', '__dict__', '__dir__', '__doc__', '__eq__', '__format__', '__ge__', '__getattribute__', '__gt__', '__hash__', '__init__', '__init_subclass__', '__iter__', '__le__', '__lt__', '__module__', '__ne__', '__new__', '__next__', '__reduce__', '__reduce_ex__', '__repr__', '__setattr__', '__sizeof__', '__str__', '__subclasshook__', '__weakref__', 'a']\n",
      "1\n",
      "2\n",
      "3\n",
      "4\n",
      "5\n",
      "6\n",
      "7\n",
      "8\n",
      "9\n",
      "10\n",
      "11\n",
      "12\n",
      "13\n",
      "14\n",
      "15\n",
      "16\n",
      "17\n",
      "18\n",
      "19\n",
      "20\n"
     ]
    }
   ],
   "source": [
    "class MyNumbers:\n",
    "  def __iter__(self):\n",
    "    self.a = 1\n",
    "    return self\n",
    "\n",
    "  def __next__(self):\n",
    "    if self.a <= 20:\n",
    "      x = self.a\n",
    "      self.a += 1\n",
    "      return x\n",
    "    else:\n",
    "      raise StopIteration\n",
    "\n",
    "myclass = MyNumbers()\n",
    "myiter = iter(myclass)\n",
    "print(type(myiter))\n",
    "print(dir(myiter))\n",
    "\n",
    "for x in myiter:\n",
    "  print(x)"
   ]
  },
  {
   "cell_type": "code",
   "execution_count": 11,
   "metadata": {},
   "outputs": [
    {
     "name": "stdout",
     "output_type": "stream",
     "text": [
      "<class '__main__.MyNumbers'>\n",
      "1\n",
      "2\n",
      "3\n",
      "4\n",
      "5\n"
     ]
    }
   ],
   "source": [
    "class MyNumbers:\n",
    "  def __iter__(self):\n",
    "    self.a = 1\n",
    "    return self\n",
    "\n",
    "  def __next__(self):\n",
    "    x = self.a\n",
    "    self.a += 1\n",
    "    return x\n",
    "\n",
    "myclass = MyNumbers()\n",
    "myiter = iter(myclass)\n",
    "print(type(myiter))\n",
    "\n",
    "print(next(myiter))\n",
    "print(next(myiter))\n",
    "print(next(myiter))\n",
    "print(next(myiter))\n",
    "print(next(myiter))"
   ]
  },
  {
   "cell_type": "markdown",
   "metadata": {},
   "source": [
    "#### what open function do?\n",
    "https://github.com/python/cpython/blob/main/Modules/_io/fileio.c#L228\n",
    "##### open() 函数返回的是什么?\n",
    "返回的是一个文件对象，常见的文件对象方法包括 read、readline、write、seek、tell 等。可以使用这些方法来操作文件并处理文件内容。\n",
    "##### 打开文件之后，如果不调用close()会发生什么？\n",
    "\n",
    "资源泄漏：打开的文件会占用系统资源（如文件描述符），如果不及时关闭文件，可能会导致资源泄漏问题。在处理大量文件或循环读写文件的情况下，资源泄漏可能会导致系统资源不足的问题。\n",
    "\n",
    "数据丢失：如果在写入文件后没有关闭文件，可能会导致数据缓冲区中的数据未完全刷新到磁盘上，从而导致数据丢失。关闭文件可以确保数据被正确地写入并保存到文件系统中。\n",
    "\n",
    "##### 如何避免忘记关闭文件的问题？\n",
    "使用with 关键字，with open() as f, with会自动管理文件的打开和关闭，即使在发生异常的情况下也能正确关闭文件\n",
    "with statement is used in exception handling to make the code cleaner and much more readable. \n",
    "\n",
    "It simplifies the management of common resources like file streams\n",
    "\n",
    "The with statement is popularly used with file streams, as shown above and with Locks, sockets, subprocesses and telnets etc。with 语句广泛用于文件流，如上所示，以及锁、套接字、子进程和远程登录等\n",
    "\n",
    "##### Supporting the “with” statement in user defined objects\n",
    "Supporting with statement in your objects will ensure that you never leave any resource open. To use with statement in user defined objects you only need to add the methods __enter__() and __exit__() in the object methods. Consider the following example for further clarification. \n",
    "\n",
    "This interface of __enter__() and __exit__() methods which provides the support of with statement in user defined objects is called Context Manager.\n",
    "\n",
    "https://www.geeksforgeeks.org/with-statement-in-python/"
   ]
  },
  {
   "cell_type": "code",
   "execution_count": null,
   "metadata": {},
   "outputs": [],
   "source": [
    "# file handling\n",
    "\n",
    "# 1) without using with statement\n",
    "file = open('file_path', 'w')\n",
    "file.write('hello world !')\n",
    "file.close()\n",
    "\n",
    "# 2) without using with statement\n",
    "file = open('file_path', 'w')\n",
    "try:\n",
    "\tfile.write('hello world')\n",
    "finally:\n",
    "\tfile.close()\n"
   ]
  },
  {
   "cell_type": "code",
   "execution_count": null,
   "metadata": {},
   "outputs": [],
   "source": [
    "# using with statement\n",
    "with open('file_path', 'w') as file:\n",
    "\tfile.write('hello world !')\n"
   ]
  },
  {
   "cell_type": "code",
   "execution_count": null,
   "metadata": {},
   "outputs": [],
   "source": [
    "with open(\"file.txt\", \"r\") as file:\n",
    "    # 在这里执行文件操作\n",
    "    data = file.read()\n",
    "    print(data)\n",
    "# 文件会在 with 代码块结束后自动关闭"
   ]
  },
  {
   "cell_type": "code",
   "execution_count": null,
   "metadata": {},
   "outputs": [],
   "source": [
    "with open(\"file1.txt\", \"r\") as file1, open(\"file2.txt\", \"r\") as file2:\n",
    "    data1 = file1.read()\n",
    "    data2 = file2.read()\n",
    "    print(data1)\n",
    "    print(data2)\n",
    "# 文件会在 with 代码块结束后自动关闭"
   ]
  },
  {
   "cell_type": "code",
   "execution_count": 8,
   "metadata": {},
   "outputs": [
    {
     "name": "stdout",
     "output_type": "stream",
     "text": [
      "init\n",
      "enter\n",
      "exit\n"
     ]
    }
   ],
   "source": [
    "# a simple file writer object\n",
    "\n",
    "class MessageWriter(object):\n",
    "\tdef __init__(self, file_name):\n",
    "\t\tprint(\"init\")\n",
    "\t\tself.file_name = file_name\n",
    "\t\n",
    "\tdef __enter__(self):\n",
    "\t\tprint(\"enter\")\n",
    "\t\tself.file = open(self.file_name, 'w')\n",
    "\t\treturn self.file\n",
    "\n",
    "\tdef __exit__(self, *args):\n",
    "\t\tprint(\"exit\")\n",
    "\t\tself.file.close()\n",
    "\n",
    "# using with statement with MessageWriter\n",
    "\n",
    "with MessageWriter('my_file.txt') as xfile:\n",
    "\txfile.write('hello world')\n"
   ]
  },
  {
   "cell_type": "code",
   "execution_count": null,
   "metadata": {},
   "outputs": [],
   "source": [
    "from contextlib import contextmanager\n",
    "\n",
    "\n",
    "class MessageWriter(object):\n",
    "\tdef __init__(self, filename):\n",
    "\t\tself.file_name = filename\n",
    "\n",
    "\t@contextmanager\n",
    "\tdef open_file(self):\n",
    "\t\ttry:\n",
    "\t\t\tfile = open(self.file_name, 'w')\n",
    "\t\t\tyield file\n",
    "\t\tfinally:\n",
    "\t\t\tfile.close()\n",
    "\n",
    "\n",
    "# usage\n",
    "message_writer = MessageWriter('hello.txt')\n",
    "with message_writer.open_file() as my_file:\n",
    "\tmy_file.write('hello world')\n"
   ]
  },
  {
   "cell_type": "markdown",
   "metadata": {},
   "source": [
    "#### Mutable vs Immutable Objects in Python\n",
    "##### Mutable objects\n",
    "* Lists\n",
    "* Sets\n",
    "* Dictionaries\n",
    "* User-Defined Classes (It purely depends upon the user to define the characteristics) \n",
    "##### Immutable objects\n",
    "* Numbers (Integer, Rational, Float, Decimal, Complex & Booleans)\n",
    "* Strings\n",
    "* Tuples\n",
    "* Frozen Sets\n",
    "* User-Defined Classes (It purely depends upon the user to define the characteristics)\n",
    "##### Objects in Python\n",
    "In Python, everything is treated as an object. Every object has these three attributes:\n",
    "\n",
    "Identity – This refers to the address that the object refers to in the computer’s memory.       \n",
    "Type – This refers to the kind of object that is created. For example- integer, list, string etc.       \n",
    "Value – This refers to the value stored by the object. For example – List=[1,2,3] would hold the numbers 1,2 and 3      \n",
    "While ID and Type cannot be changed once it’s created, values can be changed for Mutable objects.    \n",
    "##### \n",
    "Immutable objects are quicker to access and are expensive to change because it involves the creation of a copy. Whereas mutable objects are easy to change.   "
   ]
  },
  {
   "cell_type": "code",
   "execution_count": 16,
   "metadata": {},
   "outputs": [
    {
     "name": "stdout",
     "output_type": "stream",
     "text": [
      "([3, 4, 5, 6], 'myname')\n"
     ]
    }
   ],
   "source": [
    "tup = ([3, 4, 5], 'myname') \n",
    "tup[0].append(6)\n",
    "print(tup)"
   ]
  },
  {
   "cell_type": "code",
   "execution_count": 18,
   "metadata": {},
   "outputs": [
    {
     "name": "stdout",
     "output_type": "stream",
     "text": [
      "2187176697288\n",
      "2187176697288\n"
     ]
    }
   ],
   "source": [
    "# mutable, 改变内容之后，变量的id并没有改变，还是同一个地址，说明没有创建新的变量，所以是可变的\n",
    "a = [1,2,3]\n",
    "print(id(a))\n",
    "a.append(4)\n",
    "print(id(a))"
   ]
  },
  {
   "cell_type": "code",
   "execution_count": 21,
   "metadata": {},
   "outputs": [
    {
     "name": "stdout",
     "output_type": "stream",
     "text": [
      "2187177450312\n",
      "2187176683336\n"
     ]
    }
   ],
   "source": [
    "# immutable, 变量名称相同，但是地址不同，说明是两个不同的变量，元组是不可变的\n",
    "a = (1,2)\n",
    "print(id(a))\n",
    "a = (2,4)\n",
    "print(id(a))\n"
   ]
  },
  {
   "cell_type": "code",
   "execution_count": 29,
   "metadata": {},
   "outputs": [
    {
     "name": "stdout",
     "output_type": "stream",
     "text": [
      "2187176680648 <class 'tuple'>\n",
      "2187176684040 <class 'tuple'>\n"
     ]
    }
   ],
   "source": [
    "# 说明每次创建相同值的元组时，都会分配一个新的对象。没有利用对象重用机制\n",
    "a = (1,2)\n",
    "print(id(a), type(a))\n",
    "b = (1,2)\n",
    "print(id(b), type(b))\n",
    "\n"
   ]
  },
  {
   "cell_type": "code",
   "execution_count": 30,
   "metadata": {},
   "outputs": [
    {
     "name": "stdout",
     "output_type": "stream",
     "text": [
      "1737715168\n",
      "1737715168\n",
      "2187188212992\n",
      "2187188212992\n"
     ]
    }
   ],
   "source": [
    "# 在 Python 中，对于小整数和一些常见的不可变对象（例如小整数、短字符串），为了优化内存使用，会采用对象重用的机制。\n",
    "a = 1\n",
    "print(id(a))\n",
    "b = 1\n",
    "print(id(b))\n",
    "\n",
    "a = \"ssss\"\n",
    "print(id(a))\n",
    "b = \"ssss\"\n",
    "print(id(b))"
   ]
  },
  {
   "cell_type": "markdown",
   "metadata": {},
   "source": [
    "#### copy vs deepcopy\n",
    "Shallow and deep copy operations        \n",
    "Assignment statements in Python do not copy objects, they create bindings between a target and an object.       \n",
    "For collections that are mutable or contain mutable items, a copy is sometimes needed so one can change one copy without changing the other.        \n",
    "浅拷贝：浅拷贝构造一个新的复合对象，然后（在可能的范围内）将引用插入到原始对象中找到的对象。        \n",
    "深拷贝：深层复制构造一个新的复合对象，然后递归地将在原始对象中找到的对象的副本插入其中。        "
   ]
  },
  {
   "cell_type": "code",
   "execution_count": 37,
   "metadata": {},
   "outputs": [
    {
     "name": "stdout",
     "output_type": "stream",
     "text": [
      "original_list id = 2187177383560, copied_list id = 2187177400776\n",
      "original_list[0] id = 1737715168, copied_list[0] id = 1737715168\n",
      "[1, 2, 3]\n",
      "[1, 100, 3]\n",
      "original_list[0] id = 1737715200, copied_list[0] id = 1737718336\n",
      "[1, 2, 10]\n",
      "[1, 100, 3]\n",
      "original_list[0] id = 1737715456, copied_list[0] id = 1737715232\n"
     ]
    }
   ],
   "source": [
    "'''\n",
    "切片操作 [:] 可以创建一个新的列表,这个操作会复制原始列表中的所有元素，并返回一个新的列表对象        \n",
    "切片操作 [:] 会创建原始列表的浅拷贝（shallow copy）。\n",
    "浅拷贝意味着新创建的列表会复制原始列表中的元素的引用，而不是复制元素本身。\n",
    "这意味着修改新列表中的元素不会影响原始列表，反之亦然。新列表和原始列表是两个独立的对象。\n",
    "'''\n",
    "original_list = [1,2,3]\n",
    "copied_list = original_list[:]\n",
    "print(\"original_list id = %d, copied_list id = %d\"%(id(original_list), id(copied_list)))\n",
    "print(\"original_list[0] id = %d, copied_list[0] id = %d\"%(id(original_list[0]), id(copied_list[0])))\n",
    "\n",
    "copied_list[1] = 100\n",
    "print(original_list)\n",
    "print(copied_list)\n",
    "print(\"original_list[0] id = %d, copied_list[0] id = %d\"%(id(original_list[1]), id(copied_list[1])))\n",
    "\n",
    "\n",
    "original_list[2] = 10\n",
    "print(original_list)\n",
    "print(copied_list)\n",
    "print(\"original_list[0] id = %d, copied_list[0] id = %d\"%(id(original_list[2]), id(copied_list[2])))\n"
   ]
  }
 ],
 "metadata": {
  "kernelspec": {
   "display_name": "Python 3",
   "language": "python",
   "name": "python3"
  },
  "language_info": {
   "codemirror_mode": {
    "name": "ipython",
    "version": 3
   },
   "file_extension": ".py",
   "mimetype": "text/x-python",
   "name": "python",
   "nbconvert_exporter": "python",
   "pygments_lexer": "ipython3",
   "version": "3.6.4"
  },
  "orig_nbformat": 4
 },
 "nbformat": 4,
 "nbformat_minor": 2
}
