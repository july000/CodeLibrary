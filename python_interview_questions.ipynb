{
 "cells": [
  {
   "cell_type": "markdown",
   "metadata": {},
   "source": [
    "python 面试题目"
   ]
  },
  {
   "cell_type": "markdown",
   "metadata": {},
   "source": [
    "https://www.interviewbit.com/python-interview-questions/\n",
    "\n",
    "https://www.datacamp.com/blog/top-python-interview-questions-and-answers\n",
    "\n",
    "https://intellipaat.com/blog/interview-question/python-interview-questions/\n",
    "\n",
    "https://www.edureka.co/blog/interview-questions/python-interview-questions/\n",
    "\n",
    "https://www.simplilearn.com/tutorials/python-tutorial/python-interview-questions\n",
    "\n",
    "https://zhuanlan.zhihu.com/p/54430650"
   ]
  },
  {
   "cell_type": "markdown",
   "metadata": {},
   "source": [
    "#### Q1: What is Python?"
   ]
  },
  {
   "cell_type": "markdown",
   "metadata": {},
   "source": []
  },
  {
   "attachments": {
    "image.png": {
     "image/png": "[encoded data removed]"
    }
   },
   "cell_type": "markdown",
   "metadata": {},
   "source": [
    "#### Q2: What are *args and *kwargs?\n",
    "![image.png](attachment:image.png)\n",
    "\n",
    "[*args and *kwargs](https://www.geeksforgeeks.org/args-kwargs-python/)\n",
    "\n",
    "To pass a variable number of arguments to a function in Python, use the special syntax *args and **kwargs in the function specification. It is used to pass a variable-length, keyword-free argument list. By using the *, the variable we associate with the * becomes iterable, allowing you to do operations on it such as iterating over it and using higher-order operations like map and filter.\n",
    "\n",
    "当我们对应该在函数中传递的参数数量有疑问时，我们使用“通配符”或“*”符号（例如 *args 或 **kwargs）作为函数的参数。”\n",
    "\n",
    "##### What is Python *args?\n",
    "* is used to pass a variable number of arguments to a function. 用于将可变数量的参数传递给函数。\n",
    "* is usesd to pass a non-keyworded and variable-length arguments list. 它用于传递非关键字、可变长度参数列表。\n",
    "* by convention, it is often used with word args. 按照惯例，*通常与args这个单词一起使用\n",
    "* *args 允许您接受比您之前定义的形式参数数量更多的参数。使用 *args，可以将任意数量的额外参数附加到当前的形式参数（包括零个额外参数） \n",
    "##### What is Python **kwargs?\n",
    "* is used to pass a keyworded and variable-length arguments list.\n",
    "* We use the name kwargs with the double star. The reason is that the double star allows us to pass through keyword arguments (and any number of them). 我们使用带有双星的名称 kwargs。原因是双星允许我们传递关键字参数（以及任意数量的关键字参数）\n",
    "* you provide a name to the variable as you pass it into the function.\n",
    "* think of the kwargs as being a dictionary that maps each keyword to the value that we pass alongside it\n",
    "##### Using both *args and **kwargs in Python to call a function\n",
    "* *args receives arguments as a tuple.\n",
    "* **kwargs receives arguments as a dictionary."
   ]
  },
  {
   "cell_type": "code",
   "execution_count": 11,
   "metadata": {},
   "outputs": [],
   "source": [
    "# pip install -U ipykernel   #刚开始不能运行代码，需要安装这个"
   ]
  },
  {
   "cell_type": "code",
   "execution_count": 1,
   "metadata": {},
   "outputs": [
    {
     "name": "stdout",
     "output_type": "stream",
     "text": [
      "Hello\n",
      "Welcome\n",
      "to\n",
      "GeeksforGeeks\n"
     ]
    }
   ],
   "source": [
    "# \n",
    "def myFun(*argv):\n",
    "\tfor arg in argv:\n",
    "\t\tprint(arg)\n",
    "\n",
    "myFun('Hello', 'Welcome', 'to', 'GeeksforGeeks')\n"
   ]
  },
  {
   "cell_type": "code",
   "execution_count": 2,
   "metadata": {},
   "outputs": [
    {
     "name": "stdout",
     "output_type": "stream",
     "text": [
      "First argument : Hello\n",
      "Next argument through *argv : Welcome\n",
      "Next argument through *argv : to\n",
      "Next argument through *argv : GeeksforGeeks\n"
     ]
    }
   ],
   "source": [
    "# to illustrate *args with a first extra argument\n",
    "def myFun(arg1, *argv):\n",
    "\tprint(\"First argument :\", arg1)\n",
    "\tfor arg in argv:\n",
    "\t\tprint(\"Next argument through *argv :\", arg)\n",
    "\n",
    "\n",
    "myFun('Hello', 'Welcome', 'to', 'GeeksforGeeks')\n"
   ]
  },
  {
   "cell_type": "code",
   "execution_count": 3,
   "metadata": {},
   "outputs": [
    {
     "name": "stdout",
     "output_type": "stream",
     "text": [
      "first == Geeks\n",
      "mid == for\n",
      "last == Geeks\n"
     ]
    }
   ],
   "source": [
    "def myFun(**kwargs):\n",
    "\tfor key, value in kwargs.items():\n",
    "\t\tprint(\"%s == %s\" % (key, value))\n",
    "\n",
    "\n",
    "# Driver code\n",
    "myFun(first='Geeks', mid='for', last='Geeks')\n"
   ]
  },
  {
   "cell_type": "code",
   "execution_count": 5,
   "metadata": {},
   "outputs": [
    {
     "name": "stdout",
     "output_type": "stream",
     "text": [
      "args :  Hi\n",
      "first == Geeks\n",
      "mid == for\n",
      "last == Geeks\n"
     ]
    }
   ],
   "source": [
    "def myFun(arg1, **kwargs):\n",
    "\tprint(\"args : \", arg1)\n",
    "\tfor key, value in kwargs.items():\n",
    "\t\tprint(\"%s == %s\" % (key, value))\n",
    "\n",
    "\n",
    "# Driver code\n",
    "myFun(\"Hi\", first='Geeks', mid='for', last='Geeks')\n"
   ]
  },
  {
   "cell_type": "code",
   "execution_count": 7,
   "metadata": {},
   "outputs": [
    {
     "name": "stdout",
     "output_type": "stream",
     "text": [
      "arg1: Geeks\n",
      "arg2: for\n",
      "arg3: Geeks\n",
      "================================\n",
      "arg1: Geeks\n",
      "arg2: for\n",
      "arg3: Geeks\n"
     ]
    }
   ],
   "source": [
    "def myFun(arg1, arg2, arg3):\n",
    "\tprint(\"arg1:\", arg1)\n",
    "\tprint(\"arg2:\", arg2)\n",
    "\tprint(\"arg3:\", arg3)\n",
    "\n",
    "\n",
    "# Now we can use *args or **kwargs to\n",
    "# pass arguments to this function :\n",
    "args = (\"Geeks\", \"for\", \"Geeks\")\n",
    "myFun(*args)\n",
    "\n",
    "print(\"================================\")\n",
    "kwargs = {\"arg1\": \"Geeks\", \"arg2\": \"for\", \"arg3\": \"Geeks\"}\n",
    "myFun(**kwargs)\n"
   ]
  },
  {
   "cell_type": "code",
   "execution_count": 8,
   "metadata": {},
   "outputs": [
    {
     "name": "stdout",
     "output_type": "stream",
     "text": [
      "args:  ('geeks', 'for', 'geeks')\n",
      "kwargs:  {'first': 'Geeks', 'mid': 'for', 'last': 'Geeks'}\n"
     ]
    }
   ],
   "source": [
    "def myFun(*args, **kwargs):\n",
    "\tprint(\"args: \", args)\n",
    "\tprint(\"kwargs: \", kwargs)\n",
    "\n",
    "\n",
    "# Now we can use both *args ,**kwargs\n",
    "# to pass arguments to this function :\n",
    "myFun('geeks', 'for', 'geeks', first=\"Geeks\", mid=\"for\", last=\"Geeks\")\n"
   ]
  },
  {
   "cell_type": "code",
   "execution_count": 9,
   "metadata": {},
   "outputs": [
    {
     "name": "stdout",
     "output_type": "stream",
     "text": [
      "red\n",
      "250\n"
     ]
    }
   ],
   "source": [
    "# defining car class\n",
    "class car():\n",
    "\t# args receives unlimited no. of arguments as an array\n",
    "\tdef __init__(self, *args):\n",
    "\t\t# access args index like array does\n",
    "\t\tself.speed = args[0]\n",
    "\t\tself.color = args[1]\n",
    "\n",
    "\n",
    "# creating objects of car class\n",
    "audi = car(200, 'red')\n",
    "bmw = car(250, 'black')\n",
    "mb = car(190, 'white')\n",
    "\n",
    "# printing the color and speed of the cars\n",
    "print(audi.color)\n",
    "print(bmw.speed)\n"
   ]
  },
  {
   "cell_type": "code",
   "execution_count": 10,
   "metadata": {},
   "outputs": [
    {
     "name": "stdout",
     "output_type": "stream",
     "text": [
      "red\n",
      "250\n"
     ]
    }
   ],
   "source": [
    "# defining car class\n",
    "class car():\n",
    "\t# args receives unlimited no. of arguments as an array\n",
    "\tdef __init__(self, **kwargs):\n",
    "\t\t# access args index like array does\n",
    "\t\tself.speed = kwargs['s']\n",
    "\t\tself.color = kwargs['c']\n",
    "\n",
    "\n",
    "# creating objects of car class\n",
    "audi = car(s=200, c='red')\n",
    "bmw = car(s=250, c='black')\n",
    "mb = car(s=190, c='white')\n",
    "\n",
    "# printing the color and speed of cars\n",
    "print(audi.color)\n",
    "print(bmw.speed)\n"
   ]
  },
  {
   "cell_type": "markdown",
   "metadata": {},
   "source": []
  },
  {
   "cell_type": "markdown",
   "metadata": {},
   "source": [
    "#### Constructors in Python（__new__ VS __init__ in Python）\n",
    "* These two methods play a vital role in the creation and initialisation of objects in Python.\n",
    "##### The __new__ Magic Method\n",
    "* will be called when an object is created\n",
    "* the __new__ method is defined as a static method which requires to pass a parameter cls. cls represents the class that is needed to be instantiated, and the compiler automatically provides this parameter at the time of instantiation.\n",
    "* constructor function\n",
    "* It's called first and is responsible for returning a new instance of your class.\n",
    "* In general, you shouldn't need to override __new__unless you're subclassing an immutable type like str, int, Unicode, or tuple.\n",
    "##### The __init__ Magic Method\n",
    "* initializer function\n",
    "* doesn't return anything; it's only responsible for initializing the instance after it's been created\n",
    "##### Differences between __new__ and __init__\n",
    "##### When to use __new__ in Python?\n",
    "https://medium.com/@zackbunch/when-to-use-new-in-python-58632249b9cc"
   ]
  },
  {
   "cell_type": "code",
   "execution_count": null,
   "metadata": {},
   "outputs": [],
   "source": [
    "class Point:\n",
    "\n",
    "    def __init__(self, data):\n",
    "        '''\n",
    "        The self parameter is a reference to the current instance of the class and\n",
    "        is used to access variables that belong to the class.\n",
    "        '''\n",
    "        self.num = data\n",
    "\n",
    "    def print_num(self):\n",
    "        print(self.num)\n",
    "\n",
    "\n",
    "obj = Point(100)\n",
    "obj.print_num()     "
   ]
  },
  {
   "cell_type": "code",
   "execution_count": null,
   "metadata": {},
   "outputs": [],
   "source": [
    "class Person:\n",
    "\n",
    "    def __new__(cls):\n",
    "        return object.__new__(cls)\n",
    "\n",
    "    def __init__(self):\n",
    "        self.instance_method()\n",
    "\n",
    "    def instance_method(self):\n",
    "        print('success!')\n",
    "\n",
    "personObj = Person()"
   ]
  },
  {
   "cell_type": "code",
   "execution_count": null,
   "metadata": {},
   "outputs": [],
   "source": [
    "class LowerCaseTuple(tuple):\n",
    "   def __new__(cls, iterable):\n",
    "      lower_iterable = (l.lower() for l in iterable)\n",
    "      return super().__new(cls, lower_iterable)\n",
    "def lower_case_example():\n",
    "   print(LowerCaseTuple(['HELLO', 'MEDIUM']))\n",
    "def main():\n",
    "   lower_case_example()"
   ]
  },
  {
   "cell_type": "markdown",
   "metadata": {},
   "source": [
    "#### How does break, continue and pass work?\n",
    "| break | 跳出循环|\n",
    "| continue | 执行下一次循环 | \n",
    "| pass | 相当于null操作，什么都不做，只是语法上的需要 |"
   ]
  },
  {
   "cell_type": "code",
   "execution_count": 12,
   "metadata": {},
   "outputs": [
    {
     "name": "stdout",
     "output_type": "stream",
     "text": [
      "g\n",
      "e\n",
      "e\n",
      "Pass executed\n",
      "k\n",
      "s\n"
     ]
    }
   ],
   "source": [
    "# Python program to demonstrate\n",
    "# pass statement\n",
    "\n",
    "s = \"geeks\"\n",
    "\n",
    "# Empty loop\n",
    "for i in s:\n",
    "\t# No error will be raised\n",
    "\tpass\n",
    "\n",
    "# Empty function\n",
    "def fun():\n",
    "\tpass\n",
    "\n",
    "# No error will be raised\n",
    "fun()\n",
    "\n",
    "# Pass statement\n",
    "for i in s:\n",
    "\tif i == 'k':\n",
    "\t\tprint('Pass executed')\n",
    "\t\tpass\n",
    "\tprint(i)\n"
   ]
  }
 ],
 "metadata": {
  "kernelspec": {
   "display_name": "Python 3",
   "language": "python",
   "name": "python3"
  },
  "language_info": {
   "codemirror_mode": {
    "name": "ipython",
    "version": 3
   },
   "file_extension": ".py",
   "mimetype": "text/x-python",
   "name": "python",
   "nbconvert_exporter": "python",
   "pygments_lexer": "ipython3",
   "version": "3.6.4"
  },
  "orig_nbformat": 4
 },
 "nbformat": 4,
 "nbformat_minor": 2
}
